{
 "cells": [
  {
   "cell_type": "markdown",
   "metadata": {},
   "source": [
    "<img src=\"http://www.ociv.usm.cl/imag/logos/UTFSM_logo.gif\" style=\"float:right;height:100px\">\n",
    "<img src=\"https://www.inf.utfsm.cl/images/sitio/di.png\" style=\"float:left;height:100px\">\n",
    "<center>\n",
    "    <h1> INF393 Máquinas de Aprendizaje</h1>\n",
    "    <h1> Tarea N°1: Métodos Lineales para Regresión </h1>\n",
    "</center>\n",
    "<br>\n",
    "<center>13 de Octubre de 2017</center>\n"
   ]
  },
  {
   "cell_type": "markdown",
   "metadata": {},
   "source": [
    "<table border=\"0\" style=\"width:500px\">\n",
    "<tr> \n",
    "<td style=\"text-align:center\">**Javier Levio S.**</td><td style=\"text-align:center\">**Carlos Molina Y.**</td>\n",
    "</tr>\n",
    "<tr>\n",
    "<td style=\"text-align:center\">201273598-k</td><td style=\"text-align:center\">201273507-6</td>\n",
    "</tr>\n",
    "<tr>\n",
    "<td style=\"text-align:center\">`javier.levio.12@sansano.usm.cl`</td><td style=\"text-align:center\">`carlos.molina.12@sansano.usm.cl`</td>\n",
    "</tr>\n",
    "</table>"
   ]
  },
  {
   "cell_type": "markdown",
   "metadata": {},
   "source": [
    "## Introducción\n"
   ]
  },
  {
   "cell_type": "markdown",
   "metadata": {},
   "source": [
    "## 1.  Regresión Lineal Ordinaria\n",
    "\n",
    "Se pretende utilizar una regresión lineal, para predecir el precio de una vivienda dado ciertos atributos. Para trabajar con la regresión lineal se utilizarán las siguientes librerías:"
   ]
  },
  {
   "cell_type": "code",
   "execution_count": 1,
   "metadata": {
    "collapsed": true
   },
   "outputs": [],
   "source": [
    "# Para manipular data sets\n",
    "import pandas as pd\n",
    "# Principalmente para manipular matrices\n",
    "import numpy as np\n",
    "# Para escalar los datos\n",
    "from sklearn.preprocessing import StandardScaler\n",
    "# Para utilizar la regresión lineal estándar\n",
    "import sklearn.linear_model as lm\n",
    "# Para graficar\n",
    "import pylab \n",
    "# Para graficar\n",
    "import scipy.stats as stats\n",
    "# Para realizar validación cruzada\n",
    "from sklearn.model_selection import KFold\n",
    "# Para aplicar regularización con el método de Ridge\n",
    "from sklearn.linear_model import Ridge\n",
    "# Para gráficar\n",
    "import matplotlib.pylab as plt\n",
    "%matplotlib inline \n",
    "# Para aplicar regularización el método de Lasso\n",
    "from sklearn.linear_model import Lasso"
   ]
  },
  {
   "cell_type": "markdown",
   "metadata": {},
   "source": [
    "Se procede a leer los datos del *dataset* a utilizar, teniendo el cuidado de no considerar información irrelevante para el cálculo del precio de las viviendas, como lo son las columnas: *id*, *date*, *zipcode*."
   ]
  },
  {
   "cell_type": "code",
   "execution_count": 2,
   "metadata": {
    "scrolled": true
   },
   "outputs": [
    {
     "data": {
      "text/html": [
       "<div>\n",
       "<style>\n",
       "    .dataframe thead tr:only-child th {\n",
       "        text-align: right;\n",
       "    }\n",
       "\n",
       "    .dataframe thead th {\n",
       "        text-align: left;\n",
       "    }\n",
       "\n",
       "    .dataframe tbody tr th {\n",
       "        vertical-align: top;\n",
       "    }\n",
       "</style>\n",
       "<table border=\"1\" class=\"dataframe\">\n",
       "  <thead>\n",
       "    <tr style=\"text-align: right;\">\n",
       "      <th></th>\n",
       "      <th>price</th>\n",
       "      <th>bedrooms</th>\n",
       "      <th>bathrooms</th>\n",
       "      <th>sqft_living</th>\n",
       "      <th>sqft_lot</th>\n",
       "      <th>floors</th>\n",
       "      <th>waterfront</th>\n",
       "      <th>view</th>\n",
       "      <th>condition</th>\n",
       "      <th>grade</th>\n",
       "      <th>sqft_above</th>\n",
       "      <th>sqft_basement</th>\n",
       "      <th>yr_built</th>\n",
       "      <th>yr_renovated</th>\n",
       "      <th>lat</th>\n",
       "      <th>long</th>\n",
       "      <th>sqft_living15</th>\n",
       "      <th>sqft_lot15</th>\n",
       "    </tr>\n",
       "  </thead>\n",
       "  <tbody>\n",
       "    <tr>\n",
       "      <th>0</th>\n",
       "      <td>221900.0</td>\n",
       "      <td>3</td>\n",
       "      <td>1.00</td>\n",
       "      <td>1180</td>\n",
       "      <td>5650</td>\n",
       "      <td>1.0</td>\n",
       "      <td>0</td>\n",
       "      <td>0</td>\n",
       "      <td>3</td>\n",
       "      <td>7</td>\n",
       "      <td>1180</td>\n",
       "      <td>0</td>\n",
       "      <td>1955</td>\n",
       "      <td>0</td>\n",
       "      <td>47.5112</td>\n",
       "      <td>-122.257</td>\n",
       "      <td>1340</td>\n",
       "      <td>5650</td>\n",
       "    </tr>\n",
       "    <tr>\n",
       "      <th>1</th>\n",
       "      <td>538000.0</td>\n",
       "      <td>3</td>\n",
       "      <td>2.25</td>\n",
       "      <td>2570</td>\n",
       "      <td>7242</td>\n",
       "      <td>2.0</td>\n",
       "      <td>0</td>\n",
       "      <td>0</td>\n",
       "      <td>3</td>\n",
       "      <td>7</td>\n",
       "      <td>2170</td>\n",
       "      <td>400</td>\n",
       "      <td>1951</td>\n",
       "      <td>1991</td>\n",
       "      <td>47.7210</td>\n",
       "      <td>-122.319</td>\n",
       "      <td>1690</td>\n",
       "      <td>7639</td>\n",
       "    </tr>\n",
       "    <tr>\n",
       "      <th>2</th>\n",
       "      <td>180000.0</td>\n",
       "      <td>2</td>\n",
       "      <td>1.00</td>\n",
       "      <td>770</td>\n",
       "      <td>10000</td>\n",
       "      <td>1.0</td>\n",
       "      <td>0</td>\n",
       "      <td>0</td>\n",
       "      <td>3</td>\n",
       "      <td>6</td>\n",
       "      <td>770</td>\n",
       "      <td>0</td>\n",
       "      <td>1933</td>\n",
       "      <td>0</td>\n",
       "      <td>47.7379</td>\n",
       "      <td>-122.233</td>\n",
       "      <td>2720</td>\n",
       "      <td>8062</td>\n",
       "    </tr>\n",
       "    <tr>\n",
       "      <th>3</th>\n",
       "      <td>604000.0</td>\n",
       "      <td>4</td>\n",
       "      <td>3.00</td>\n",
       "      <td>1960</td>\n",
       "      <td>5000</td>\n",
       "      <td>1.0</td>\n",
       "      <td>0</td>\n",
       "      <td>0</td>\n",
       "      <td>5</td>\n",
       "      <td>7</td>\n",
       "      <td>1050</td>\n",
       "      <td>910</td>\n",
       "      <td>1965</td>\n",
       "      <td>0</td>\n",
       "      <td>47.5208</td>\n",
       "      <td>-122.393</td>\n",
       "      <td>1360</td>\n",
       "      <td>5000</td>\n",
       "    </tr>\n",
       "    <tr>\n",
       "      <th>4</th>\n",
       "      <td>510000.0</td>\n",
       "      <td>3</td>\n",
       "      <td>2.00</td>\n",
       "      <td>1680</td>\n",
       "      <td>8080</td>\n",
       "      <td>1.0</td>\n",
       "      <td>0</td>\n",
       "      <td>0</td>\n",
       "      <td>3</td>\n",
       "      <td>8</td>\n",
       "      <td>1680</td>\n",
       "      <td>0</td>\n",
       "      <td>1987</td>\n",
       "      <td>0</td>\n",
       "      <td>47.6168</td>\n",
       "      <td>-122.045</td>\n",
       "      <td>1800</td>\n",
       "      <td>7503</td>\n",
       "    </tr>\n",
       "  </tbody>\n",
       "</table>\n",
       "</div>"
      ],
      "text/plain": [
       "      price  bedrooms  bathrooms  sqft_living  sqft_lot  floors  waterfront  \\\n",
       "0  221900.0         3       1.00         1180      5650     1.0           0   \n",
       "1  538000.0         3       2.25         2570      7242     2.0           0   \n",
       "2  180000.0         2       1.00          770     10000     1.0           0   \n",
       "3  604000.0         4       3.00         1960      5000     1.0           0   \n",
       "4  510000.0         3       2.00         1680      8080     1.0           0   \n",
       "\n",
       "   view  condition  grade  sqft_above  sqft_basement  yr_built  yr_renovated  \\\n",
       "0     0          3      7        1180              0      1955             0   \n",
       "1     0          3      7        2170            400      1951          1991   \n",
       "2     0          3      6         770              0      1933             0   \n",
       "3     0          5      7        1050            910      1965             0   \n",
       "4     0          3      8        1680              0      1987             0   \n",
       "\n",
       "       lat     long  sqft_living15  sqft_lot15  \n",
       "0  47.5112 -122.257           1340        5650  \n",
       "1  47.7210 -122.319           1690        7639  \n",
       "2  47.7379 -122.233           2720        8062  \n",
       "3  47.5208 -122.393           1360        5000  \n",
       "4  47.6168 -122.045           1800        7503  "
      ]
     },
     "execution_count": 2,
     "metadata": {},
     "output_type": "execute_result"
    }
   ],
   "source": [
    "df = pd.read_csv(\"kc_house_data.csv\")\n",
    "# se eliminan las columnas con información irrelevante para el analisis\n",
    "df.drop(['id','date','zipcode'],axis=1,inplace=True)\n",
    "df.head()"
   ]
  },
  {
   "cell_type": "markdown",
   "metadata": {},
   "source": [
    "El *dataset* corresponde a 21613 viviendas (filas), donde cada una posee 18 atributos incluyendo el precio al que fueron vendidas."
   ]
  },
  {
   "cell_type": "code",
   "execution_count": 3,
   "metadata": {},
   "outputs": [
    {
     "data": {
      "text/plain": [
       "(21613, 18)"
      ]
     },
     "execution_count": 3,
     "metadata": {},
     "output_type": "execute_result"
    }
   ],
   "source": [
    "df.shape"
   ]
  },
  {
   "cell_type": "markdown",
   "metadata": {},
   "source": [
    "La naturaleza de los atributos incluídos en el dataset es en su mayoría números enteros (int64), siendo solo 4 de ellos de punto flotante (flat64)."
   ]
  },
  {
   "cell_type": "code",
   "execution_count": 4,
   "metadata": {},
   "outputs": [
    {
     "name": "stdout",
     "output_type": "stream",
     "text": [
      "<class 'pandas.core.frame.DataFrame'>\n",
      "RangeIndex: 21613 entries, 0 to 21612\n",
      "Data columns (total 18 columns):\n",
      "price            21613 non-null float64\n",
      "bedrooms         21613 non-null int64\n",
      "bathrooms        21613 non-null float64\n",
      "sqft_living      21613 non-null int64\n",
      "sqft_lot         21613 non-null int64\n",
      "floors           21613 non-null float64\n",
      "waterfront       21613 non-null int64\n",
      "view             21613 non-null int64\n",
      "condition        21613 non-null int64\n",
      "grade            21613 non-null int64\n",
      "sqft_above       21613 non-null int64\n",
      "sqft_basement    21613 non-null int64\n",
      "yr_built         21613 non-null int64\n",
      "yr_renovated     21613 non-null int64\n",
      "lat              21613 non-null float64\n",
      "long             21613 non-null float64\n",
      "sqft_living15    21613 non-null int64\n",
      "sqft_lot15       21613 non-null int64\n",
      "dtypes: float64(5), int64(13)\n",
      "memory usage: 3.0 MB\n"
     ]
    }
   ],
   "source": [
    "df.info()"
   ]
  },
  {
   "cell_type": "markdown",
   "metadata": {},
   "source": [
    "Algunas características particulares del *dataset* incluyen:\n",
    "<ul>\n",
    "<li>La casa más cara se vendió por 7,700,000 USD, mientras que la más barata por 75,000 USD</li> \n",
    "<li>La casa más vieja se construyó en el año 1900</li>\n",
    "<li>En promedio las casas poseen 2 baños y 3 dormitorios</li>\n",
    "</ul>"
   ]
  },
  {
   "cell_type": "code",
   "execution_count": 5,
   "metadata": {},
   "outputs": [
    {
     "data": {
      "text/html": [
       "<div>\n",
       "<style>\n",
       "    .dataframe thead tr:only-child th {\n",
       "        text-align: right;\n",
       "    }\n",
       "\n",
       "    .dataframe thead th {\n",
       "        text-align: left;\n",
       "    }\n",
       "\n",
       "    .dataframe tbody tr th {\n",
       "        vertical-align: top;\n",
       "    }\n",
       "</style>\n",
       "<table border=\"1\" class=\"dataframe\">\n",
       "  <thead>\n",
       "    <tr style=\"text-align: right;\">\n",
       "      <th></th>\n",
       "      <th>price</th>\n",
       "      <th>bedrooms</th>\n",
       "      <th>bathrooms</th>\n",
       "      <th>sqft_living</th>\n",
       "      <th>sqft_lot</th>\n",
       "      <th>floors</th>\n",
       "      <th>waterfront</th>\n",
       "      <th>view</th>\n",
       "      <th>condition</th>\n",
       "      <th>grade</th>\n",
       "      <th>sqft_above</th>\n",
       "      <th>sqft_basement</th>\n",
       "      <th>yr_built</th>\n",
       "      <th>yr_renovated</th>\n",
       "      <th>lat</th>\n",
       "      <th>long</th>\n",
       "      <th>sqft_living15</th>\n",
       "      <th>sqft_lot15</th>\n",
       "    </tr>\n",
       "  </thead>\n",
       "  <tbody>\n",
       "    <tr>\n",
       "      <th>count</th>\n",
       "      <td>2.161300e+04</td>\n",
       "      <td>21613.000000</td>\n",
       "      <td>21613.000000</td>\n",
       "      <td>21613.000000</td>\n",
       "      <td>2.161300e+04</td>\n",
       "      <td>21613.000000</td>\n",
       "      <td>21613.000000</td>\n",
       "      <td>21613.000000</td>\n",
       "      <td>21613.000000</td>\n",
       "      <td>21613.000000</td>\n",
       "      <td>21613.000000</td>\n",
       "      <td>21613.000000</td>\n",
       "      <td>21613.000000</td>\n",
       "      <td>21613.000000</td>\n",
       "      <td>21613.000000</td>\n",
       "      <td>21613.000000</td>\n",
       "      <td>21613.000000</td>\n",
       "      <td>21613.000000</td>\n",
       "    </tr>\n",
       "    <tr>\n",
       "      <th>mean</th>\n",
       "      <td>5.400881e+05</td>\n",
       "      <td>3.370842</td>\n",
       "      <td>2.114757</td>\n",
       "      <td>2079.899736</td>\n",
       "      <td>1.510697e+04</td>\n",
       "      <td>1.494309</td>\n",
       "      <td>0.007542</td>\n",
       "      <td>0.234303</td>\n",
       "      <td>3.409430</td>\n",
       "      <td>7.656873</td>\n",
       "      <td>1788.390691</td>\n",
       "      <td>291.509045</td>\n",
       "      <td>1971.005136</td>\n",
       "      <td>84.402258</td>\n",
       "      <td>47.560053</td>\n",
       "      <td>-122.213896</td>\n",
       "      <td>1986.552492</td>\n",
       "      <td>12768.455652</td>\n",
       "    </tr>\n",
       "    <tr>\n",
       "      <th>std</th>\n",
       "      <td>3.671272e+05</td>\n",
       "      <td>0.930062</td>\n",
       "      <td>0.770163</td>\n",
       "      <td>918.440897</td>\n",
       "      <td>4.142051e+04</td>\n",
       "      <td>0.539989</td>\n",
       "      <td>0.086517</td>\n",
       "      <td>0.766318</td>\n",
       "      <td>0.650743</td>\n",
       "      <td>1.175459</td>\n",
       "      <td>828.090978</td>\n",
       "      <td>442.575043</td>\n",
       "      <td>29.373411</td>\n",
       "      <td>401.679240</td>\n",
       "      <td>0.138564</td>\n",
       "      <td>0.140828</td>\n",
       "      <td>685.391304</td>\n",
       "      <td>27304.179631</td>\n",
       "    </tr>\n",
       "    <tr>\n",
       "      <th>min</th>\n",
       "      <td>7.500000e+04</td>\n",
       "      <td>0.000000</td>\n",
       "      <td>0.000000</td>\n",
       "      <td>290.000000</td>\n",
       "      <td>5.200000e+02</td>\n",
       "      <td>1.000000</td>\n",
       "      <td>0.000000</td>\n",
       "      <td>0.000000</td>\n",
       "      <td>1.000000</td>\n",
       "      <td>1.000000</td>\n",
       "      <td>290.000000</td>\n",
       "      <td>0.000000</td>\n",
       "      <td>1900.000000</td>\n",
       "      <td>0.000000</td>\n",
       "      <td>47.155900</td>\n",
       "      <td>-122.519000</td>\n",
       "      <td>399.000000</td>\n",
       "      <td>651.000000</td>\n",
       "    </tr>\n",
       "    <tr>\n",
       "      <th>25%</th>\n",
       "      <td>3.219500e+05</td>\n",
       "      <td>3.000000</td>\n",
       "      <td>1.750000</td>\n",
       "      <td>1427.000000</td>\n",
       "      <td>5.040000e+03</td>\n",
       "      <td>1.000000</td>\n",
       "      <td>0.000000</td>\n",
       "      <td>0.000000</td>\n",
       "      <td>3.000000</td>\n",
       "      <td>7.000000</td>\n",
       "      <td>1190.000000</td>\n",
       "      <td>0.000000</td>\n",
       "      <td>1951.000000</td>\n",
       "      <td>0.000000</td>\n",
       "      <td>47.471000</td>\n",
       "      <td>-122.328000</td>\n",
       "      <td>1490.000000</td>\n",
       "      <td>5100.000000</td>\n",
       "    </tr>\n",
       "    <tr>\n",
       "      <th>50%</th>\n",
       "      <td>4.500000e+05</td>\n",
       "      <td>3.000000</td>\n",
       "      <td>2.250000</td>\n",
       "      <td>1910.000000</td>\n",
       "      <td>7.618000e+03</td>\n",
       "      <td>1.500000</td>\n",
       "      <td>0.000000</td>\n",
       "      <td>0.000000</td>\n",
       "      <td>3.000000</td>\n",
       "      <td>7.000000</td>\n",
       "      <td>1560.000000</td>\n",
       "      <td>0.000000</td>\n",
       "      <td>1975.000000</td>\n",
       "      <td>0.000000</td>\n",
       "      <td>47.571800</td>\n",
       "      <td>-122.230000</td>\n",
       "      <td>1840.000000</td>\n",
       "      <td>7620.000000</td>\n",
       "    </tr>\n",
       "    <tr>\n",
       "      <th>75%</th>\n",
       "      <td>6.450000e+05</td>\n",
       "      <td>4.000000</td>\n",
       "      <td>2.500000</td>\n",
       "      <td>2550.000000</td>\n",
       "      <td>1.068800e+04</td>\n",
       "      <td>2.000000</td>\n",
       "      <td>0.000000</td>\n",
       "      <td>0.000000</td>\n",
       "      <td>4.000000</td>\n",
       "      <td>8.000000</td>\n",
       "      <td>2210.000000</td>\n",
       "      <td>560.000000</td>\n",
       "      <td>1997.000000</td>\n",
       "      <td>0.000000</td>\n",
       "      <td>47.678000</td>\n",
       "      <td>-122.125000</td>\n",
       "      <td>2360.000000</td>\n",
       "      <td>10083.000000</td>\n",
       "    </tr>\n",
       "    <tr>\n",
       "      <th>max</th>\n",
       "      <td>7.700000e+06</td>\n",
       "      <td>33.000000</td>\n",
       "      <td>8.000000</td>\n",
       "      <td>13540.000000</td>\n",
       "      <td>1.651359e+06</td>\n",
       "      <td>3.500000</td>\n",
       "      <td>1.000000</td>\n",
       "      <td>4.000000</td>\n",
       "      <td>5.000000</td>\n",
       "      <td>13.000000</td>\n",
       "      <td>9410.000000</td>\n",
       "      <td>4820.000000</td>\n",
       "      <td>2015.000000</td>\n",
       "      <td>2015.000000</td>\n",
       "      <td>47.777600</td>\n",
       "      <td>-121.315000</td>\n",
       "      <td>6210.000000</td>\n",
       "      <td>871200.000000</td>\n",
       "    </tr>\n",
       "  </tbody>\n",
       "</table>\n",
       "</div>"
      ],
      "text/plain": [
       "              price      bedrooms     bathrooms   sqft_living      sqft_lot  \\\n",
       "count  2.161300e+04  21613.000000  21613.000000  21613.000000  2.161300e+04   \n",
       "mean   5.400881e+05      3.370842      2.114757   2079.899736  1.510697e+04   \n",
       "std    3.671272e+05      0.930062      0.770163    918.440897  4.142051e+04   \n",
       "min    7.500000e+04      0.000000      0.000000    290.000000  5.200000e+02   \n",
       "25%    3.219500e+05      3.000000      1.750000   1427.000000  5.040000e+03   \n",
       "50%    4.500000e+05      3.000000      2.250000   1910.000000  7.618000e+03   \n",
       "75%    6.450000e+05      4.000000      2.500000   2550.000000  1.068800e+04   \n",
       "max    7.700000e+06     33.000000      8.000000  13540.000000  1.651359e+06   \n",
       "\n",
       "             floors    waterfront          view     condition         grade  \\\n",
       "count  21613.000000  21613.000000  21613.000000  21613.000000  21613.000000   \n",
       "mean       1.494309      0.007542      0.234303      3.409430      7.656873   \n",
       "std        0.539989      0.086517      0.766318      0.650743      1.175459   \n",
       "min        1.000000      0.000000      0.000000      1.000000      1.000000   \n",
       "25%        1.000000      0.000000      0.000000      3.000000      7.000000   \n",
       "50%        1.500000      0.000000      0.000000      3.000000      7.000000   \n",
       "75%        2.000000      0.000000      0.000000      4.000000      8.000000   \n",
       "max        3.500000      1.000000      4.000000      5.000000     13.000000   \n",
       "\n",
       "         sqft_above  sqft_basement      yr_built  yr_renovated           lat  \\\n",
       "count  21613.000000   21613.000000  21613.000000  21613.000000  21613.000000   \n",
       "mean    1788.390691     291.509045   1971.005136     84.402258     47.560053   \n",
       "std      828.090978     442.575043     29.373411    401.679240      0.138564   \n",
       "min      290.000000       0.000000   1900.000000      0.000000     47.155900   \n",
       "25%     1190.000000       0.000000   1951.000000      0.000000     47.471000   \n",
       "50%     1560.000000       0.000000   1975.000000      0.000000     47.571800   \n",
       "75%     2210.000000     560.000000   1997.000000      0.000000     47.678000   \n",
       "max     9410.000000    4820.000000   2015.000000   2015.000000     47.777600   \n",
       "\n",
       "               long  sqft_living15     sqft_lot15  \n",
       "count  21613.000000   21613.000000   21613.000000  \n",
       "mean    -122.213896    1986.552492   12768.455652  \n",
       "std        0.140828     685.391304   27304.179631  \n",
       "min     -122.519000     399.000000     651.000000  \n",
       "25%     -122.328000    1490.000000    5100.000000  \n",
       "50%     -122.230000    1840.000000    7620.000000  \n",
       "75%     -122.125000    2360.000000   10083.000000  \n",
       "max     -121.315000    6210.000000  871200.000000  "
      ]
     },
     "execution_count": 5,
     "metadata": {},
     "output_type": "execute_result"
    }
   ],
   "source": [
    "df.describe()"
   ]
  },
  {
   "cell_type": "markdown",
   "metadata": {
    "collapsed": true
   },
   "source": [
    "A continuación se centran y escalan los datos, restando la media de cada atributo y dividiendo por la correspondiente desviación estándar. Con este procedimiento se llevan los datos a una distribución normal estándar.\n",
    "\n",
    "Además, se linealizan los precios de las casas mediante una transformación logarítmica. Esto para forzar la linealidad de los datos."
   ]
  },
  {
   "cell_type": "code",
   "execution_count": 6,
   "metadata": {
    "collapsed": true
   },
   "outputs": [],
   "source": [
    "scaler = StandardScaler()\n",
    "df_scaled = pd.DataFrame(scaler.fit_transform(df), columns=df.columns)\n",
    "df_scaled['price'] = np.log(df['price'])"
   ]
  },
  {
   "cell_type": "markdown",
   "metadata": {},
   "source": [
    "Con los datos ya *preprocesados* se aparta el precio del conjunto de atributos y se considera como la salida esperada de la regresión lineal. Además, se agrega una columna de $1$s en los atributos, que corresponderán al intercepto de la regresión. Luego, se procede a separar los primeros 15129 datos (70% del *dataset*), como el *set* de entrenamiento y el resto como el *set* de prueba. Finalmente, es necesario especificar `fit_intercept = False` ya que como se menciona en la [documentación](http://scikit-learn.org/stable/modules/generated/sklearn.linear_model.LinearRegression.html \"sklearn.linear_model.LinearRegression\"), no es necesario calcular un intercepto si los datos están centrados.\n",
    "\n"
   ]
  },
  {
   "cell_type": "code",
   "execution_count": 7,
   "metadata": {},
   "outputs": [
    {
     "data": {
      "text/plain": [
       "LinearRegression(copy_X=True, fit_intercept=False, n_jobs=1, normalize=False)"
      ]
     },
     "execution_count": 7,
     "metadata": {},
     "output_type": "execute_result"
    }
   ],
   "source": [
    "X = df_scaled.iloc[:, 1:]\n",
    "N = X.shape[0]\n",
    "X.insert(X.shape[1], 'intercept', np.ones(N))\n",
    "p = X.shape[1]\n",
    "y = df_scaled['price']\n",
    "mascara = np.zeros(N)\n",
    "Ntrain = int(N*0.7)\n",
    "mascara[:Ntrain] = 1\n",
    "istrain = mascara == 1\n",
    "Xtrain = X[istrain]\n",
    "ytrain = y[istrain]\n",
    "Xtest = X[np.logical_not(istrain)]\n",
    "ytest = y[np.logical_not(istrain)]\n",
    "linreg = lm.LinearRegression(fit_intercept = False)\n",
    "linreg.fit(Xtrain, ytrain)"
   ]
  },
  {
   "cell_type": "markdown",
   "metadata": {},
   "source": [
    "Para verificar acaso los atributos considerados para la regresión lineal son realmente relevantes para el cálculo, se realiza el cálculo de los z-score para cada uno de estos.\n",
    "\n",
    "Considerando el z-score como:\n",
    "\n",
    "$$z_j = \\dfrac{\\hat{\\beta}_j}{\\hat{\\sigma}\\sqrt{v_j}}$$\n",
    "\n",
    "Donde $\\sigma^2$ se calcula como el error cuadrático medio para todas las predicciones, y $v_j$ la diagonal de la matriz $(X^TX)^{-1}$ (inversa de la matriz de covarianza), donde $X$ en este caso corresponde a los datos de entrenamiento `Xtrain`."
   ]
  },
  {
   "cell_type": "code",
   "execution_count": 8,
   "metadata": {
    "scrolled": false
   },
   "outputs": [
    {
     "data": {
      "text/html": [
       "<div>\n",
       "<style>\n",
       "    .dataframe thead tr:only-child th {\n",
       "        text-align: right;\n",
       "    }\n",
       "\n",
       "    .dataframe thead th {\n",
       "        text-align: left;\n",
       "    }\n",
       "\n",
       "    .dataframe tbody tr th {\n",
       "        vertical-align: top;\n",
       "    }\n",
       "</style>\n",
       "<table border=\"1\" class=\"dataframe\">\n",
       "  <thead>\n",
       "    <tr style=\"text-align: right;\">\n",
       "      <th></th>\n",
       "      <th>Pesos</th>\n",
       "      <th>Z-Score</th>\n",
       "    </tr>\n",
       "  </thead>\n",
       "  <tbody>\n",
       "    <tr>\n",
       "      <th>bedrooms</th>\n",
       "      <td>-7.124594e-03</td>\n",
       "      <td>-2.615202e+00</td>\n",
       "    </tr>\n",
       "    <tr>\n",
       "      <th>bathrooms</th>\n",
       "      <td>5.704254e-02</td>\n",
       "      <td>1.494709e+01</td>\n",
       "    </tr>\n",
       "    <tr>\n",
       "      <th>sqft_living</th>\n",
       "      <td>-3.543499e+12</td>\n",
       "      <td>-2.630538e+07</td>\n",
       "    </tr>\n",
       "    <tr>\n",
       "      <th>sqft_lot</th>\n",
       "      <td>2.249269e-02</td>\n",
       "      <td>7.715592e+00</td>\n",
       "    </tr>\n",
       "    <tr>\n",
       "      <th>floors</th>\n",
       "      <td>3.718999e-02</td>\n",
       "      <td>1.214391e+01</td>\n",
       "    </tr>\n",
       "    <tr>\n",
       "      <th>waterfront</th>\n",
       "      <td>3.330636e-02</td>\n",
       "      <td>1.469602e+01</td>\n",
       "    </tr>\n",
       "    <tr>\n",
       "      <th>view</th>\n",
       "      <td>4.242336e-02</td>\n",
       "      <td>1.754035e+01</td>\n",
       "    </tr>\n",
       "    <tr>\n",
       "      <th>condition</th>\n",
       "      <td>4.575867e-02</td>\n",
       "      <td>2.076579e+01</td>\n",
       "    </tr>\n",
       "    <tr>\n",
       "      <th>grade</th>\n",
       "      <td>1.844230e-01</td>\n",
       "      <td>4.763010e+01</td>\n",
       "    </tr>\n",
       "    <tr>\n",
       "      <th>sqft_above</th>\n",
       "      <td>3.194914e+12</td>\n",
       "      <td>2.630538e+07</td>\n",
       "    </tr>\n",
       "    <tr>\n",
       "      <th>sqft_basement</th>\n",
       "      <td>1.707529e+12</td>\n",
       "      <td>2.630538e+07</td>\n",
       "    </tr>\n",
       "    <tr>\n",
       "      <th>yr_built</th>\n",
       "      <td>-1.101074e-01</td>\n",
       "      <td>-3.387891e+01</td>\n",
       "    </tr>\n",
       "    <tr>\n",
       "      <th>yr_renovated</th>\n",
       "      <td>1.464844e-02</td>\n",
       "      <td>6.823507e+00</td>\n",
       "    </tr>\n",
       "    <tr>\n",
       "      <th>lat</th>\n",
       "      <td>1.857910e-01</td>\n",
       "      <td>8.561394e+01</td>\n",
       "    </tr>\n",
       "    <tr>\n",
       "      <th>long</th>\n",
       "      <td>-4.272461e-03</td>\n",
       "      <td>-1.666046e+00</td>\n",
       "    </tr>\n",
       "    <tr>\n",
       "      <th>sqft_living15</th>\n",
       "      <td>8.825684e-02</td>\n",
       "      <td>2.421821e+01</td>\n",
       "    </tr>\n",
       "    <tr>\n",
       "      <th>sqft_lot15</th>\n",
       "      <td>-8.178711e-03</td>\n",
       "      <td>-2.738374e+00</td>\n",
       "    </tr>\n",
       "    <tr>\n",
       "      <th>intercept</th>\n",
       "      <td>1.303952e+01</td>\n",
       "      <td>6.223447e+03</td>\n",
       "    </tr>\n",
       "  </tbody>\n",
       "</table>\n",
       "</div>"
      ],
      "text/plain": [
       "                      Pesos       Z-Score\n",
       "bedrooms      -7.124594e-03 -2.615202e+00\n",
       "bathrooms      5.704254e-02  1.494709e+01\n",
       "sqft_living   -3.543499e+12 -2.630538e+07\n",
       "sqft_lot       2.249269e-02  7.715592e+00\n",
       "floors         3.718999e-02  1.214391e+01\n",
       "waterfront     3.330636e-02  1.469602e+01\n",
       "view           4.242336e-02  1.754035e+01\n",
       "condition      4.575867e-02  2.076579e+01\n",
       "grade          1.844230e-01  4.763010e+01\n",
       "sqft_above     3.194914e+12  2.630538e+07\n",
       "sqft_basement  1.707529e+12  2.630538e+07\n",
       "yr_built      -1.101074e-01 -3.387891e+01\n",
       "yr_renovated   1.464844e-02  6.823507e+00\n",
       "lat            1.857910e-01  8.561394e+01\n",
       "long          -4.272461e-03 -1.666046e+00\n",
       "sqft_living15  8.825684e-02  2.421821e+01\n",
       "sqft_lot15    -8.178711e-03 -2.738374e+00\n",
       "intercept      1.303952e+01  6.223447e+03"
      ]
     },
     "execution_count": 8,
     "metadata": {},
     "output_type": "execute_result"
    }
   ],
   "source": [
    "weights = linreg.coef_\n",
    "atribute_names = list(X.columns.values)\n",
    "\n",
    "Xm = Xtrain.as_matrix()\n",
    "ym = ytrain.as_matrix()\n",
    "\n",
    "yhat = linreg.predict(Xtrain)\n",
    "\n",
    "sigma = np.sqrt(np.mean(np.power(ytrain-yhat,2)))\n",
    "\n",
    "covar = np.dot(Xm.T,Xm)\n",
    "inv_covar = np.linalg.inv(covar)\n",
    "\n",
    "diag_inv_covar = inv_covar.diagonal()\n",
    "\n",
    "zscores = np.zeros(p)\n",
    "\n",
    "for i in range(p):\n",
    "    zscores[i] = weights[i]/(sigma*np.sqrt(diag_inv_covar[i]))\n",
    "    \n",
    "d = {'Pesos' : pd.Series(weights, index = atribute_names),\n",
    "    'Z-Score': pd.Series(zscores, index = atribute_names)}\n",
    "\n",
    "w_and_z = pd.DataFrame(d)\n",
    "\n",
    "w_and_z.head(18)"
   ]
  },
  {
   "cell_type": "markdown",
   "metadata": {},
   "source": [
    "Antes de realizar el análisis correspondiente al z-score, es necesario notar que algunos de los valores calculados poseen un error. Específicamente para los atributos: **sqft_living**, **sqft_above** y **sqft_basement**, se encuentra un valor negativo en la respectiva posición de la diagonal de la covarianza inversa.\n",
    "Este percance se atribuye a que, como se muestra a continuación, la matriz `Xtrain` posee un número de condición grande.\n",
    "Considerando el número de condición como:\n",
    "\n",
    "$$K(A)=||A||_{\\infty}\\cdot ||A^{-1}||_{\\infty}$$\n",
    "\n",
    "Donde la norma infinita se calcula como la máxima suma absoluta por fila de la matriz."
   ]
  },
  {
   "cell_type": "code",
   "execution_count": 9,
   "metadata": {},
   "outputs": [
    {
     "name": "stdout",
     "output_type": "stream",
     "text": [
      "Norma infinita de Covarianza: 104968.068976 \n",
      "Norma infinita de Covarianza inversa: 670209426237.0 \n",
      "Numero de condicion: 7.03505892818e+16\n"
     ]
    }
   ],
   "source": [
    "covar_inf_norm = np.linalg.norm(covar, np.inf)\n",
    "inv_covar_inf_norm = np.linalg.norm(inv_covar, np.inf)\n",
    "print(\"Norma infinita de Covarianza:\",covar_inf_norm,\n",
    "      \"\\nNorma infinita de Covarianza inversa:\",inv_covar_inf_norm,\n",
    "      \"\\nNumero de condicion:\",covar_inf_norm*inv_covar_inf_norm)"
   ]
  },
  {
   "cell_type": "markdown",
   "metadata": {},
   "source": [
    "Este número de condición se atribuye a que las columnas de la matriz `Xtrain` poseen una dependencia lineal, lo que es crucial para definir su no singularidad. Así, inspeccionando los atributos del data set, se identifica lo siguiente:\n",
    "\n",
    "$$\\text{sqft_living}=\\text{sqft_above}+\\text{sqft_basement}$$\n",
    "\n",
    "Siendo esta la relación que provoca problemas, se decide por eliminar la columna **sqft_living**."
   ]
  },
  {
   "cell_type": "code",
   "execution_count": 10,
   "metadata": {
    "collapsed": true
   },
   "outputs": [],
   "source": [
    "df_scaled.drop(['sqft_living'],axis=1,inplace=True)"
   ]
  },
  {
   "cell_type": "markdown",
   "metadata": {},
   "source": [
    "Luego, realizando las modificaciones necesarias."
   ]
  },
  {
   "cell_type": "code",
   "execution_count": 11,
   "metadata": {},
   "outputs": [
    {
     "name": "stdout",
     "output_type": "stream",
     "text": [
      "Norma infinita de Covarianza: 86377.3598713 \n",
      "Norma infinita de Covarianza inversa: 0.000927188609697 \n",
      "Numero de condicion: 80.0881042084\n"
     ]
    },
    {
     "data": {
      "text/html": [
       "<div>\n",
       "<style>\n",
       "    .dataframe thead tr:only-child th {\n",
       "        text-align: right;\n",
       "    }\n",
       "\n",
       "    .dataframe thead th {\n",
       "        text-align: left;\n",
       "    }\n",
       "\n",
       "    .dataframe tbody tr th {\n",
       "        vertical-align: top;\n",
       "    }\n",
       "</style>\n",
       "<table border=\"1\" class=\"dataframe\">\n",
       "  <thead>\n",
       "    <tr style=\"text-align: right;\">\n",
       "      <th></th>\n",
       "      <th>Pesos</th>\n",
       "      <th>Z-Score</th>\n",
       "    </tr>\n",
       "  </thead>\n",
       "  <tbody>\n",
       "    <tr>\n",
       "      <th>bedrooms</th>\n",
       "      <td>-0.008270</td>\n",
       "      <td>-3.035987</td>\n",
       "    </tr>\n",
       "    <tr>\n",
       "      <th>bathrooms</th>\n",
       "      <td>0.055960</td>\n",
       "      <td>14.665238</td>\n",
       "    </tr>\n",
       "    <tr>\n",
       "      <th>sqft_lot</th>\n",
       "      <td>0.022159</td>\n",
       "      <td>7.602265</td>\n",
       "    </tr>\n",
       "    <tr>\n",
       "      <th>floors</th>\n",
       "      <td>0.037595</td>\n",
       "      <td>12.277599</td>\n",
       "    </tr>\n",
       "    <tr>\n",
       "      <th>waterfront</th>\n",
       "      <td>0.033526</td>\n",
       "      <td>14.794985</td>\n",
       "    </tr>\n",
       "    <tr>\n",
       "      <th>view</th>\n",
       "      <td>0.042082</td>\n",
       "      <td>17.401632</td>\n",
       "    </tr>\n",
       "    <tr>\n",
       "      <th>condition</th>\n",
       "      <td>0.045277</td>\n",
       "      <td>20.549723</td>\n",
       "    </tr>\n",
       "    <tr>\n",
       "      <th>grade</th>\n",
       "      <td>0.186212</td>\n",
       "      <td>48.098398</td>\n",
       "    </tr>\n",
       "    <tr>\n",
       "      <th>sqft_above</th>\n",
       "      <td>0.099216</td>\n",
       "      <td>21.098521</td>\n",
       "    </tr>\n",
       "    <tr>\n",
       "      <th>sqft_basement</th>\n",
       "      <td>0.059536</td>\n",
       "      <td>20.679680</td>\n",
       "    </tr>\n",
       "    <tr>\n",
       "      <th>yr_built</th>\n",
       "      <td>-0.109875</td>\n",
       "      <td>-33.811790</td>\n",
       "    </tr>\n",
       "    <tr>\n",
       "      <th>yr_renovated</th>\n",
       "      <td>0.014798</td>\n",
       "      <td>6.894117</td>\n",
       "    </tr>\n",
       "    <tr>\n",
       "      <th>lat</th>\n",
       "      <td>0.186277</td>\n",
       "      <td>85.849012</td>\n",
       "    </tr>\n",
       "    <tr>\n",
       "      <th>long</th>\n",
       "      <td>-0.004079</td>\n",
       "      <td>-1.590882</td>\n",
       "    </tr>\n",
       "    <tr>\n",
       "      <th>sqft_living15</th>\n",
       "      <td>0.085933</td>\n",
       "      <td>23.583466</td>\n",
       "    </tr>\n",
       "    <tr>\n",
       "      <th>sqft_lot15</th>\n",
       "      <td>-0.007013</td>\n",
       "      <td>-2.348255</td>\n",
       "    </tr>\n",
       "    <tr>\n",
       "      <th>intercept</th>\n",
       "      <td>13.039692</td>\n",
       "      <td>6224.325416</td>\n",
       "    </tr>\n",
       "  </tbody>\n",
       "</table>\n",
       "</div>"
      ],
      "text/plain": [
       "                   Pesos      Z-Score\n",
       "bedrooms       -0.008270    -3.035987\n",
       "bathrooms       0.055960    14.665238\n",
       "sqft_lot        0.022159     7.602265\n",
       "floors          0.037595    12.277599\n",
       "waterfront      0.033526    14.794985\n",
       "view            0.042082    17.401632\n",
       "condition       0.045277    20.549723\n",
       "grade           0.186212    48.098398\n",
       "sqft_above      0.099216    21.098521\n",
       "sqft_basement   0.059536    20.679680\n",
       "yr_built       -0.109875   -33.811790\n",
       "yr_renovated    0.014798     6.894117\n",
       "lat             0.186277    85.849012\n",
       "long           -0.004079    -1.590882\n",
       "sqft_living15   0.085933    23.583466\n",
       "sqft_lot15     -0.007013    -2.348255\n",
       "intercept      13.039692  6224.325416"
      ]
     },
     "execution_count": 11,
     "metadata": {},
     "output_type": "execute_result"
    }
   ],
   "source": [
    "X = df_scaled.iloc[:, 1:]\n",
    "X.insert(X.shape[1], 'intercept', np.ones(N))\n",
    "p = X.shape[1]\n",
    "Xtrain = X[istrain]\n",
    "Xtest = X[np.logical_not(istrain)]\n",
    "linreg = lm.LinearRegression(fit_intercept = False)\n",
    "linreg.fit(Xtrain, ytrain)\n",
    "\n",
    "weights = linreg.coef_\n",
    "atribute_names = list(X.columns.values)\n",
    "\n",
    "Xm = Xtrain.as_matrix()\n",
    "\n",
    "yhat = linreg.predict(Xtrain)\n",
    "\n",
    "sigma = np.sqrt(np.mean(np.power(ytrain-yhat,2)))\n",
    "\n",
    "covar = np.dot(Xm.T,Xm)\n",
    "inv_covar = np.linalg.inv(covar)\n",
    "covar_inf_norm = np.linalg.norm(covar, np.inf)\n",
    "inv_covar_inf_norm = np.linalg.norm(inv_covar, np.inf)\n",
    "\n",
    "print(\"Norma infinita de Covarianza:\",covar_inf_norm,\n",
    "      \"\\nNorma infinita de Covarianza inversa:\",inv_covar_inf_norm,\n",
    "      \"\\nNumero de condicion:\",covar_inf_norm*inv_covar_inf_norm)\n",
    "\n",
    "diag_inv_covar = inv_covar.diagonal()\n",
    "\n",
    "zscores = np.zeros(p)\n",
    "\n",
    "for i in range(p):\n",
    "    zscores[i] = weights[i]/(sigma*np.sqrt(diag_inv_covar[i]))\n",
    "    \n",
    "d = {'Pesos' : pd.Series(weights, index = atribute_names),\n",
    "    'Z-Score': pd.Series(zscores, index = atribute_names)}\n",
    "\n",
    "w_and_z = pd.DataFrame(d)\n",
    "\n",
    "w_and_z.head(18)"
   ]
  },
  {
   "cell_type": "markdown",
   "metadata": {
    "collapsed": true
   },
   "source": [
    "Se observa como el número de condición se reduce drásticamente, y que los z-score de los atributos problemáticos esta vez se calculan sin problemas.\n",
    "\n",
    "Ahora, realizando un análisis de los datos obtenidos, se tiene que considerando un $5\\%$ de significancia, todos los atributos poseen un buen grado relevancia ($|z_j|>1.96$), exceptuando la coordenada longitudinal. Esto se puede deber a \n",
    "Los atributos más correlacionados con el resultado corresponden a:\n",
    "\n",
    "\n",
    "Con un nivel de significancia del 5% se observa que solo un atributo (**long**) está fuera del rango. Esto se puede deber a que la distribución geográfica de las casas más caras versus las más baratas, se distribuye de manera más marcada de norte a sur, que de oeste a este.\n",
    "\n",
    "A continuación, se realizará validación cruzada con 5 y 10 particiones, y se compararán los errores obtenidos."
   ]
  },
  {
   "cell_type": "code",
   "execution_count": 12,
   "metadata": {},
   "outputs": [
    {
     "name": "stdout",
     "output_type": "stream",
     "text": [
      "Error con  5  folds:  0.0646896867901\n",
      "Error con  10  folds:  0.0646829054256\n",
      "Error de test:  0.065259251237263\n"
     ]
    }
   ],
   "source": [
    "yhat_test = linreg.predict(Xtest)\n",
    "mse_test = np.mean(np.power(yhat_test - ytest, 2))\n",
    "\n",
    "ks=[5,10]\n",
    "for k in ks:\n",
    "    kf = KFold(n_splits=k)\n",
    "    mse_cv = 0\n",
    "    mse_list=[]\n",
    "    error_val_list = []\n",
    "    for train, val in kf.split(Xm):\n",
    "        linreg = lm.LinearRegression(fit_intercept = False)\n",
    "        linreg.fit(Xm[train], ym[train])\n",
    "        yhat_val = linreg.predict(Xm[val])\n",
    "        error_val = yhat_val - ym[val]\n",
    "        error_val_list = np.concatenate((error_val_list,error_val),axis=0)\n",
    "        mse_fold = np.mean(np.power(error_val, 2))\n",
    "        mse_cv += mse_fold\n",
    "        mse_list.append(mse_cv)\n",
    "    mse_cv = mse_cv / k\n",
    "    print (\"Error con \",k,\" folds: \",mse_cv)\n",
    "print (\"Error de test: \",mse_test)"
   ]
  },
  {
   "cell_type": "markdown",
   "metadata": {},
   "source": [
    "Se observa que los errores de validación y prueba son similares, por lo que el conjunto de entrenamiento es lo suficientemente homogéneo para responder de la misma manera ante el conjunto de validación y de prueba.\n",
    "\n",
    "Luego, para verificar la naturaleza de los errores, se procede a realizar un *quantile-quantile plot*."
   ]
  },
  {
   "cell_type": "code",
   "execution_count": 13,
   "metadata": {},
   "outputs": [
    {
     "data": {
      "image/png": "[encoded data removed]",
      "text/plain": [
       "<matplotlib.figure.Figure at 0x1a0bc8e0b8>"
      ]
     },
     "metadata": {},
     "output_type": "display_data"
    }
   ],
   "source": [
    "#measurements = np.random.normal(loc = 20, scale = 5, size=100)   \n",
    "stats.probplot(error_val_list, dist=\"norm\", plot=pylab)\n",
    "pylab.show()"
   ]
  },
  {
   "cell_type": "markdown",
   "metadata": {},
   "source": [
    "Se observa que los errores siguen de buena manera la línea de tendecia. Por lo tanto, es válido considerar que estos siguen una distribución normal y por lo tanto, son aleatorios.\n",
    "\n",
    "## 2.  Selección de Atributos\n",
    "\n",
    "A continuación se presenta el método Forward Stepwise Selection, que permite seleccionar atributos en base a su influencia en el error de predicción."
   ]
  },
  {
   "cell_type": "code",
   "execution_count": 14,
   "metadata": {},
   "outputs": [
    {
     "name": "stdout",
     "output_type": "stream",
     "text": [
      "selected = grade ...\n",
      "totalvars=2, mse = 0.143260\n",
      "selected = lat ...\n",
      "totalvars=3, mse = 0.103340\n",
      "selected = yr_built ...\n",
      "totalvars=4, mse = 0.093145\n",
      "selected = bathrooms ...\n",
      "totalvars=5, mse = 0.081737\n",
      "selected = sqft_living15 ...\n",
      "totalvars=6, mse = 0.074692\n",
      "selected = view ...\n",
      "totalvars=7, mse = 0.071336\n",
      "selected = condition ...\n",
      "totalvars=8, mse = 0.069809\n",
      "selected = sqft_above ...\n",
      "totalvars=9, mse = 0.068097\n",
      "selected = sqft_basement ...\n",
      "totalvars=10, mse = 0.066743\n",
      "selected = waterfront ...\n",
      "totalvars=11, mse = 0.065743\n",
      "selected = floors ...\n",
      "totalvars=12, mse = 0.065095\n",
      "selected = sqft_lot ...\n",
      "totalvars=13, mse = 0.064793\n",
      "selected = yr_renovated ...\n",
      "totalvars=14, mse = 0.064591\n",
      "selected = bedrooms ...\n",
      "totalvars=15, mse = 0.064554\n",
      "selected = sqft_lot15 ...\n",
      "totalvars=16, mse = 0.064527\n",
      "selected = long ...\n",
      "totalvars=17, mse = 0.064516\n"
     ]
    }
   ],
   "source": [
    "def fss(x, y, xtest, ytest, names_x, k = 10000):\n",
    "    p = x.shape[1]-1\n",
    "    k = min(p, k)\n",
    "    names_x = np.array(names_x)\n",
    "    remaining = list(range(0, p))\n",
    "    selected = [p]\n",
    "    current_score = best_new_score = 0.0\n",
    "    mse_curr_list=[]\n",
    "    mse_test_list=[]\n",
    "    while remaining and len(selected)<=k :\n",
    "        score_candidates = []\n",
    "        for candidate in remaining:\n",
    "            model = lm.LinearRegression(fit_intercept=False)\n",
    "            indexes = selected + [candidate]\n",
    "            x_train = x[:,indexes]\n",
    "            predictions_train = model.fit(x_train, y).predict(x_train)\n",
    "            residuals_train = predictions_train - y\n",
    "            mse_candidate = np.mean(np.power(residuals_train, 2))\n",
    "            score_candidates.append((mse_candidate, candidate))\n",
    "        score_candidates.sort()\n",
    "        score_candidates[:] = score_candidates[::-1]\n",
    "        best_new_score, best_candidate = score_candidates.pop()\n",
    "        remaining.remove(best_candidate)\n",
    "        selected.append(best_candidate)\n",
    "        print (\"selected = %s ...\"%names_x[best_candidate])\n",
    "        print (\"totalvars=%d, mse = %f\"%(len(indexes),best_new_score))\n",
    "        model = lm.LinearRegression(fit_intercept=False)\n",
    "        x_curr = x[:, selected]\n",
    "        predictions_curr = model.fit(x_curr, y).predict(x_curr)\n",
    "        mse_curr = np.mean(np.power(predictions_curr - y, 2))\n",
    "        x_test = xtest[:, selected]\n",
    "        model = lm.LinearRegression(fit_intercept=False)\n",
    "        predictions_test = model.fit(x_test, ytest).predict(x_test)\n",
    "        mse_test = np.mean(np.power(predictions_test - ytest, 2))\n",
    "        mse_curr_list.append(mse_curr)\n",
    "        mse_test_list.append(mse_test)\n",
    "    \n",
    "    return (selected, mse_curr_list, mse_test_list)\n",
    "\n",
    "\n",
    "names_regressors = X.columns[:-1] #without intercept\n",
    "Xtestm = Xtest.as_matrix()\n",
    "(selected, error_train ,error_test)=fss(Xm,ym,Xtestm,ytest,names_regressors)"
   ]
  },
  {
   "cell_type": "markdown",
   "metadata": {},
   "source": [
    "Los errores de entrenamiento y prueba, a medida que se eligen los atributos se presentan en el siguiente gráfico."
   ]
  },
  {
   "cell_type": "code",
   "execution_count": 33,
   "metadata": {},
   "outputs": [
    {
     "data": {
      "image/png": "[encoded data removed]",
      "text/plain": [
       "<matplotlib.figure.Figure at 0x1a152442e8>"
      ]
     },
     "metadata": {},
     "output_type": "display_data"
    }
   ],
   "source": [
    "x = np.linspace(1, 16, 16)\n",
    "trainplot, = plt.plot(x, error_train,label=\"Error de entrenamiento\")\n",
    "testplot, = plt.plot(x, error_test,label=\"Error de prueba\")\n",
    "plt.legend(handles=[trainplot, testplot])\n",
    "plt.title('Errores durante la selección de atributos')\n",
    "plt.xticks(x)\n",
    "plt.show()"
   ]
  },
  {
   "cell_type": "markdown",
   "metadata": {},
   "source": [
    "Se observa como los errores de prueba decrecen a un ritmo similar a los de entrenamiento, esto indica que la selección de atributos es apropiada.\n",
    "\n",
    "### FSS con criterio de z-score\n",
    "\n",
    "A partir del acercamiento del algoritmo anterior, se plantea una selección de atributos en base al z-score de cada uno."
   ]
  },
  {
   "cell_type": "code",
   "execution_count": 16,
   "metadata": {},
   "outputs": [
    {
     "name": "stdout",
     "output_type": "stream",
     "text": [
      "selected = grade ...\n",
      "totalvars=2, mse = 2177.240386\n",
      "selected = lat ...\n",
      "totalvars=3, mse = 1731.166909\n",
      "selected = view ...\n",
      "totalvars=4, mse = 1367.507928\n",
      "selected = sqft_living15 ...\n",
      "totalvars=5, mse = 1130.658210\n",
      "selected = yr_built ...\n",
      "totalvars=6, mse = 974.070392\n",
      "selected = bathrooms ...\n",
      "totalvars=7, mse = 876.367793\n",
      "selected = condition ...\n",
      "totalvars=8, mse = 778.279067\n",
      "selected = sqft_above ...\n",
      "totalvars=9, mse = 699.920290\n",
      "selected = sqft_basement ...\n",
      "totalvars=10, mse = 636.653279\n",
      "selected = waterfront ...\n",
      "totalvars=11, mse = 583.889769\n",
      "selected = yr_renovated ...\n",
      "totalvars=12, mse = 537.098478\n",
      "selected = floors ...\n",
      "totalvars=13, mse = 497.354869\n",
      "selected = sqft_lot ...\n",
      "totalvars=14, mse = 463.345196\n",
      "selected = sqft_lot15 ...\n",
      "totalvars=15, mse = 432.289303\n",
      "selected = bedrooms ...\n",
      "totalvars=16, mse = 405.093888\n",
      "selected = long ...\n",
      "totalvars=17, mse = 381.001949\n"
     ]
    }
   ],
   "source": [
    "def fssZ(x, y, xtest, ytest, names_x, k = 10000):\n",
    "    p = x.shape[1]-1\n",
    "    k = min(p, k)\n",
    "    names_x = np.array(names_x)\n",
    "    remaining = list(range(0, p))\n",
    "    selected = [p]\n",
    "    current_score = best_new_score = 0.0\n",
    "    mse_curr_list=[]\n",
    "    mse_test_list=[]\n",
    "    while remaining and len(selected)<=k :\n",
    "        score_candidates = []\n",
    "        for candidate in remaining:\n",
    "            model = lm.LinearRegression(fit_intercept=False)\n",
    "            indexes = selected + [candidate]\n",
    "            x_train = x[:,indexes]\n",
    "            predictions_train = model.fit(x_train, y).predict(x_train)\n",
    "            residuals_train = predictions_train - y\n",
    "            mse_candidate = np.mean(np.power(residuals_train, 2))\n",
    "            weights = model.coef_ \n",
    "            sigma = np.sqrt(mse_candidate)\n",
    "            covar = np.dot(x_train.T,x_train)\n",
    "            inv_covar = np.linalg.inv(covar)\n",
    "            diag_inv_covar = inv_covar.diagonal()\n",
    "            \n",
    "            zscores = np.zeros(len(indexes))\n",
    "            for i in range(len(indexes)):\n",
    "                zscores[i] = weights[i]/(sigma*np.sqrt(diag_inv_covar[i]))\n",
    "            mean_candidate = np.mean(zscores)\n",
    "            score_candidates.append((mean_candidate, candidate))\n",
    "        score_candidates.sort()\n",
    "        best_new_score, best_candidate = score_candidates.pop()\n",
    "        remaining.remove(best_candidate)\n",
    "        selected.append(best_candidate)\n",
    "        print (\"selected = %s ...\"%names_x[best_candidate])\n",
    "        print (\"totalvars=%d, mse = %f\"%(len(indexes),best_new_score))\n",
    "        model = lm.LinearRegression(fit_intercept=False)\n",
    "        x_curr = x[:, selected]\n",
    "        predictions_curr = model.fit(x_curr, y).predict(x_curr)\n",
    "        mse_curr = np.mean(np.power(predictions_curr - y, 2))\n",
    "        x_test = xtest[:, selected]\n",
    "        model = lm.LinearRegression(fit_intercept=False)\n",
    "        predictions_test = model.fit(x_test, ytest).predict(x_test)\n",
    "        mse_test = np.mean(np.power(predictions_test - ytest, 2))\n",
    "        mse_curr_list.append(mse_curr)\n",
    "        mse_test_list.append(mse_test)\n",
    "    \n",
    "    return (selected, mse_curr_list, mse_test_list)\n",
    "\n",
    "\n",
    "names_regressors = X.columns[:-1] #without intercept\n",
    "Xtestm = Xtest.as_matrix()\n",
    "(selectedZ, error_trainZ ,error_testZ)=fssZ(Xm,ym,Xtestm,ytest,names_regressors)"
   ]
  },
  {
   "cell_type": "markdown",
   "metadata": {},
   "source": [
    "Con el nuevo criterio, se tiene que el orden de selección varia levemente en algunos atributos. Sin embargo, el comportamiento es bastante similar al algoritmo original."
   ]
  },
  {
   "cell_type": "code",
   "execution_count": 17,
   "metadata": {},
   "outputs": [
    {
     "data": {
      "image/png": "[encoded data removed]",
      "text/plain": [
       "<matplotlib.figure.Figure at 0x1a0bd9d2e8>"
      ]
     },
     "metadata": {},
     "output_type": "display_data"
    }
   ],
   "source": [
    "x = np.linspace(1, 16, 16)\n",
    "trainplotZ, = plt.plot(x, error_trainZ,label=\"Error de entrenamiento\")\n",
    "testplotZ, = plt.plot(x, error_testZ,label=\"Error de prueba\")\n",
    "plt.legend(handles=[trainplotZ, testplotZ])\n",
    "plt.title('Errores durante la selección de atributos')\n",
    "plt.xticks(x)\n",
    "plt.show()"
   ]
  },
  {
   "cell_type": "markdown",
   "metadata": {},
   "source": [
    "La similitud observada anteriormente se reafirma, ya que los errores decrecen con un ritmo parecido.\n",
    "Además, se confirma que el criterio utilizado en el algoritmo es válido."
   ]
  },
  {
   "cell_type": "markdown",
   "metadata": {
    "collapsed": true
   },
   "source": [
    "## 3. Regularización\n",
    "\n",
    "A continuación, se muestran dos algoritmos regularizadores, los que se encargan de reducir el peso de las variables poco relevantes para el resultado.\n",
    "\n",
    "El primer algoritmo es Ridge, el cual basa su criterio en la norma-2. "
   ]
  },
  {
   "cell_type": "code",
   "execution_count": 18,
   "metadata": {},
   "outputs": [
    {
     "data": {
      "image/png": "[encoded data removed]",
      "text/plain": [
       "<matplotlib.figure.Figure at 0x1a0bca4da0>"
      ]
     },
     "metadata": {},
     "output_type": "display_data"
    }
   ],
   "source": [
    "X2 = X.drop('intercept', axis=1,inplace=False)\n",
    "Xtrain = X2[istrain]\n",
    "ytrain = y[istrain]\n",
    "names_regressors = X2.columns\n",
    "alphas_ = np.logspace(7,1,base=10)\n",
    "coefs = []\n",
    "model = Ridge(fit_intercept=True,solver='svd')\n",
    "for a in alphas_:\n",
    "    model.set_params(alpha=a)\n",
    "    model.fit(Xtrain, ytrain)\n",
    "    coefs.append(model.coef_)\n",
    "ax = plt.gca()\n",
    "for y_arr, label in zip(np.squeeze(coefs).T, names_regressors):\n",
    "    plt.plot(alphas_, y_arr, label=label)\n",
    "plt.legend()\n",
    "ax.set_xscale('log')\n",
    "ax.set_xlim(ax.get_xlim()[::-1]) # reverse axis\n",
    "plt.title('Regularization Path RIDGE')\n",
    "plt.axis('tight')\n",
    "plt.legend(loc=2)\n",
    "plt.show()"
   ]
  },
  {
   "cell_type": "markdown",
   "metadata": {},
   "source": [
    "Se observa que los parámetros de la regresión cambian de manera suave con distintos valores para el parámetro $\\lambda$.\n",
    "\n",
    "El segundo algoritmo es Lasso y utiliza la norma-1."
   ]
  },
  {
   "cell_type": "code",
   "execution_count": 19,
   "metadata": {},
   "outputs": [
    {
     "data": {
      "image/png": "[encoded data removed]",
      "text/plain": [
       "<matplotlib.figure.Figure at 0x1a0bc8ef98>"
      ]
     },
     "metadata": {},
     "output_type": "display_data"
    }
   ],
   "source": [
    "X2 = X.drop('intercept', axis=1,inplace=False)\n",
    "Xtrain = X2[istrain]\n",
    "ytrain = y[istrain]\n",
    "names_regressors = X2.columns\n",
    "alphas_ = np.logspace(0,-3,base=10)\n",
    "coefs = []\n",
    "model = Lasso(fit_intercept=True)\n",
    "for a in alphas_:\n",
    "    model.set_params(alpha=a)\n",
    "    model.fit(Xtrain, ytrain)\n",
    "    coefs.append(model.coef_)\n",
    "ax = plt.gca()\n",
    "for y_arr, label in zip(np.squeeze(coefs).T, names_regressors):\n",
    "    plt.plot(alphas_, y_arr, label=label)\n",
    "plt.legend()\n",
    "ax.set_xscale('log')\n",
    "ax.set_xlim(ax.get_xlim()[::-1]) # reverse axis\n",
    "plt.title('Regularization Path Lasso')\n",
    "plt.axis('tight')\n",
    "plt.legend(loc=2)\n",
    "plt.show()"
   ]
  },
  {
   "cell_type": "markdown",
   "metadata": {},
   "source": [
    "Se observa que muchos parámetros se mantienen en 0 a lo largo de los valores de $\\lambda$. A diferencia de ridge, se observan cambios muy bruscos en la variación de los parámetros."
   ]
  },
  {
   "cell_type": "markdown",
   "metadata": {},
   "source": [
    "A continuación se muestra un gráfico de los errores de entrenamiento y prueba en función del parámetro de regularización. Elegimos Ridge en lugar de Lasso ya que estamos en un caso donde hay una gran cantidad de datos y pocas variables, además los z-score de las variables son apropiados, por lo que realizar una penalización suave es más correcto que una drástica."
   ]
  },
  {
   "cell_type": "code",
   "execution_count": 20,
   "metadata": {},
   "outputs": [
    {
     "data": {
      "image/png": "[encoded data removed]",
      "text/plain": [
       "<matplotlib.figure.Figure at 0x1a0bca4dd8>"
      ]
     },
     "metadata": {},
     "output_type": "display_data"
    }
   ],
   "source": [
    "Xtest = X2[np.logical_not(istrain)]\n",
    "ytest = y[np.logical_not(istrain)]\n",
    "alphas_ = np.logspace(7,1,base=10)\n",
    "coefs = []\n",
    "model = Ridge(fit_intercept=True,solver='svd')\n",
    "mse_test = []\n",
    "mse_train = []\n",
    "for a in alphas_:\n",
    "    model.set_params(alpha=a)\n",
    "    model.fit(Xtrain, ytrain)\n",
    "    yhat_train = model.predict(Xtrain)\n",
    "    yhat_test = model.predict(Xtest)\n",
    "    mse_train.append(np.mean(np.power(yhat_train - ytrain, 2)))\n",
    "    mse_test.append(np.mean(np.power(yhat_test - ytest, 2)))\n",
    "ax = plt.gca()\n",
    "ax.plot(alphas_,mse_train,label='train error ridge')\n",
    "ax.plot(alphas_,mse_test,label='test error ridge')\n",
    "plt.legend(loc=1)\n",
    "ax.set_xscale('log')\n",
    "ax.set_xlim(ax.get_xlim()[::-1])\n",
    "plt.show()"
   ]
  },
  {
   "cell_type": "markdown",
   "metadata": {},
   "source": [
    "Se observa que el error de entrenamiento y el error de test son muy similares.\n",
    "A continuación se presenta el mejor parámetro de regularización para Ridge."
   ]
  },
  {
   "cell_type": "code",
   "execution_count": 21,
   "metadata": {},
   "outputs": [
    {
     "name": "stdout",
     "output_type": "stream",
     "text": [
      "BEST PARAMETER=10000000.000000, MSE(CV)=0.275842\n",
      "BEST PARAMETER=7543120.063355, MSE(CV)=0.275307\n",
      "BEST PARAMETER=5689866.029018, MSE(CV)=0.274602\n",
      "BEST PARAMETER=4291934.260129, MSE(CV)=0.273675\n",
      "BEST PARAMETER=3237457.542818, MSE(CV)=0.272457\n",
      "BEST PARAMETER=2442053.094549, MSE(CV)=0.270863\n",
      "BEST PARAMETER=1842069.969327, MSE(CV)=0.268784\n",
      "BEST PARAMETER=1389495.494373, MSE(CV)=0.266087\n",
      "BEST PARAMETER=1048113.134155, MSE(CV)=0.262614\n",
      "BEST PARAMETER=790604.321091, MSE(CV)=0.258177\n",
      "BEST PARAMETER=596362.331659, MSE(CV)=0.252573\n",
      "BEST PARAMETER=449843.266897, MSE(CV)=0.245595\n",
      "BEST PARAMETER=339322.177190, MSE(CV)=0.237056\n",
      "BEST PARAMETER=255954.792270, MSE(CV)=0.226829\n",
      "BEST PARAMETER=193069.772888, MSE(CV)=0.214891\n",
      "BEST PARAMETER=145634.847750, MSE(CV)=0.201371\n",
      "BEST PARAMETER=109854.114199, MSE(CV)=0.186570\n",
      "BEST PARAMETER=82864.277285, MSE(CV)=0.170961\n",
      "BEST PARAMETER=62505.519253, MSE(CV)=0.155134\n",
      "BEST PARAMETER=47148.663635, MSE(CV)=0.139721\n",
      "BEST PARAMETER=35564.803062, MSE(CV)=0.125302\n",
      "BEST PARAMETER=26826.957953, MSE(CV)=0.112334\n",
      "BEST PARAMETER=20235.896477, MSE(CV)=0.101114\n",
      "BEST PARAMETER=15264.179672, MSE(CV)=0.091769\n",
      "BEST PARAMETER=11513.953993, MSE(CV)=0.084272\n",
      "BEST PARAMETER=8685.113738, MSE(CV)=0.078476\n",
      "BEST PARAMETER=6551.285569, MSE(CV)=0.074152\n",
      "BEST PARAMETER=4941.713361, MSE(CV)=0.071030\n",
      "BEST PARAMETER=3727.593720, MSE(CV)=0.068845\n",
      "BEST PARAMETER=2811.768698, MSE(CV)=0.067357\n",
      "BEST PARAMETER=2120.950888, MSE(CV)=0.066368\n",
      "BEST PARAMETER=1599.858720, MSE(CV)=0.065725\n",
      "BEST PARAMETER=1206.792641, MSE(CV)=0.065316\n",
      "BEST PARAMETER=910.298178, MSE(CV)=0.065060\n",
      "BEST PARAMETER=686.648845, MSE(CV)=0.064904\n",
      "BEST PARAMETER=517.947468, MSE(CV)=0.064810\n",
      "BEST PARAMETER=390.693994, MSE(CV)=0.064754\n",
      "BEST PARAMETER=294.705170, MSE(CV)=0.064722\n",
      "BEST PARAMETER=222.299648, MSE(CV)=0.064703\n",
      "BEST PARAMETER=167.683294, MSE(CV)=0.064693\n",
      "BEST PARAMETER=126.485522, MSE(CV)=0.064688\n",
      "BEST PARAMETER=95.409548, MSE(CV)=0.064685\n",
      "BEST PARAMETER=71.968567, MSE(CV)=0.064683\n",
      "BEST PARAMETER=54.286754, MSE(CV)=0.064683\n",
      "BEST PARAMETER=40.949151, MSE(CV)=0.064682\n",
      "BEST PARAMETER=30.888436, MSE(CV)=0.064682\n"
     ]
    }
   ],
   "source": [
    "def MSE(y,yhat): return np.mean(np.power(y-yhat,2))\n",
    "Xm = Xtrain.as_matrix()\n",
    "ym = ytrain.as_matrix()\n",
    "from sklearn.model_selection import KFold\n",
    "kf = KFold(n_splits=10)\n",
    "best_cv_mse = float(\"inf\")\n",
    "alphas_ = np.logspace(7,1,base=10)\n",
    "model = Ridge(fit_intercept=True,solver='svd')\n",
    "for a in alphas_:\n",
    "    model.set_params(alpha=a)\n",
    "    mse_list_k10 = [MSE(model.fit(Xm[train], ym[train]).predict(Xm[val]), ym[val]) \\\n",
    "        for train, val in kf.split(Xm)]\n",
    "    if np.mean(mse_list_k10) < best_cv_mse:\n",
    "        best_cv_mse = np.mean(mse_list_k10)\n",
    "        best_alpha = a\n",
    "        print (\"BEST PARAMETER=%f, MSE(CV)=%f\"%(best_alpha,best_cv_mse))"
   ]
  },
  {
   "cell_type": "markdown",
   "metadata": {},
   "source": [
    "El mejor parámetro tiene un valor de 30.888436.\n",
    "\n",
    "## 4. Drift\n",
    "\n",
    "A continuación se generan las dos muestras con las que se trabajará."
   ]
  },
  {
   "cell_type": "code",
   "execution_count": 26,
   "metadata": {
    "collapsed": true
   },
   "outputs": [],
   "source": [
    "df_A = df_scaled.sample(1000,random_state=11)\n",
    "frames = []\n",
    "valor = df_scaled.price\n",
    "length = 0.3\n",
    "for z in np.arange(int(np.min(valor)),int(np.max(valor))+1,length):\n",
    "    #un maximo de 100 datos por intervalo\n",
    "    aux = df_scaled[(df_scaled.price >= z) & (df_scaled.price < z+length)].head(100)\n",
    "    frames.append(aux)\n",
    "df_B = pd.concat(frames).sample(1000,random_state=11) #crea el dataframe"
   ]
  },
  {
   "cell_type": "markdown",
   "metadata": {},
   "source": [
    "Luego se crea el conjunto de entrenamiento y validación."
   ]
  },
  {
   "cell_type": "code",
   "execution_count": 37,
   "metadata": {},
   "outputs": [],
   "source": [
    "X_A = df_A.iloc[:,1:].values\n",
    "y_A = df_A.price\n",
    "X_B = df_B.iloc[:,1:].values\n",
    "y_B = df_B.price\n",
    "from sklearn.model_selection import train_test_split\n",
    "Xtrain_A,Xval_A,ytrain_A,yval_A = train_test_split(X_A, y_A, test_size=0.3, random_state=42)\n",
    "Xtrain_B,Xval_B,ytrain_B,yval_B = train_test_split(X_B, y_B, test_size=0.3, random_state=42)"
   ]
  },
  {
   "cell_type": "code",
   "execution_count": null,
   "metadata": {
    "collapsed": true
   },
   "outputs": [],
   "source": [
    "A continuación, se determinan los errores de A y B respecto a ambos conjuntos de validación."
   ]
  },
  {
   "cell_type": "code",
   "execution_count": 38,
   "metadata": {},
   "outputs": [
    {
     "name": "stdout",
     "output_type": "stream",
     "text": [
      "Error A:  0.07160600373421917\n",
      "Error A sobre B:  1.216962239264553\n",
      "Error B:  0.11895514203211846\n",
      "Error B sobre A:  1.163824369075975\n"
     ]
    }
   ],
   "source": [
    "linregA = lm.LinearRegression(fit_intercept = True)\n",
    "linregA.fit(Xtrain_A, ytrain_A)\n",
    "yhat_A=linregA.predict(Xval_A)\n",
    "errorA=np.mean(np.power(yhat_A-yval_A,2))\n",
    "errorAB=np.mean(np.power(yhat_A-yval_B,2))\n",
    "\n",
    "\n",
    "linregB = lm.LinearRegression(fit_intercept = True)\n",
    "linregB.fit(Xtrain_B, ytrain_B)\n",
    "yhat_B=linregB.predict(Xval_B)\n",
    "errorB=np.mean(np.power(yhat_B-yval_B,2))\n",
    "errorBA=np.mean(np.power(yhat_B-yval_A,2))\n",
    "\n",
    "\n",
    "print(\"Error A: \",errorA)\n",
    "print(\"Error A sobre B: \",errorAB)\n",
    "print(\"Error B: \",errorB)\n",
    "print(\"Error B sobre A: \",errorBA)"
   ]
  },
  {
   "cell_type": "markdown",
   "metadata": {},
   "source": [
    "De los resultados obtenidos se puede apreciar que el error de validación de A sobre B y de B sobre A son significativamente mayores que los errores sobre sus propios conjuntos de validación. Esto sucede debido a que hay diferencias significativas entre ambos conjuntos de datos.\n",
    "\n",
    "Consideramos que el error de validación cruzado entre los conjuntos es más relevante que el error sobre su propio conjunto, ya que se estaría evaluando el modelo sobre un conjunto de validación que posee la misma distribución que el conjunto de entrenamiento. Por lo tanto, el modelo B es más confiable, ya que tiene menor error cruzado."
   ]
  },
  {
   "cell_type": "markdown",
   "metadata": {},
   "source": [
    "## 5 Detectar enfermedades cardíacas"
   ]
  },
  {
   "cell_type": "code",
   "execution_count": 25,
   "metadata": {},
   "outputs": [
    {
     "data": {
      "text/html": [
       "<div>\n",
       "<style>\n",
       "    .dataframe thead tr:only-child th {\n",
       "        text-align: right;\n",
       "    }\n",
       "\n",
       "    .dataframe thead th {\n",
       "        text-align: left;\n",
       "    }\n",
       "\n",
       "    .dataframe tbody tr th {\n",
       "        vertical-align: top;\n",
       "    }\n",
       "</style>\n",
       "<table border=\"1\" class=\"dataframe\">\n",
       "  <thead>\n",
       "    <tr style=\"text-align: right;\">\n",
       "      <th></th>\n",
       "      <th>age</th>\n",
       "      <th>sex</th>\n",
       "      <th>chest_pain</th>\n",
       "      <th>blood_p</th>\n",
       "      <th>serum</th>\n",
       "      <th>blood_s</th>\n",
       "      <th>electro</th>\n",
       "      <th>max_heart</th>\n",
       "      <th>angina</th>\n",
       "      <th>oldpeak</th>\n",
       "      <th>slope</th>\n",
       "      <th>vessel</th>\n",
       "      <th>thal</th>\n",
       "      <th>normal</th>\n",
       "    </tr>\n",
       "  </thead>\n",
       "  <tbody>\n",
       "    <tr>\n",
       "      <th>0</th>\n",
       "      <td>70.0</td>\n",
       "      <td>1.0</td>\n",
       "      <td>4.0</td>\n",
       "      <td>130.0</td>\n",
       "      <td>322.0</td>\n",
       "      <td>0.0</td>\n",
       "      <td>2.0</td>\n",
       "      <td>109.0</td>\n",
       "      <td>0.0</td>\n",
       "      <td>2.4</td>\n",
       "      <td>2.0</td>\n",
       "      <td>3.0</td>\n",
       "      <td>3.0</td>\n",
       "      <td>2</td>\n",
       "    </tr>\n",
       "    <tr>\n",
       "      <th>1</th>\n",
       "      <td>67.0</td>\n",
       "      <td>0.0</td>\n",
       "      <td>3.0</td>\n",
       "      <td>115.0</td>\n",
       "      <td>564.0</td>\n",
       "      <td>0.0</td>\n",
       "      <td>2.0</td>\n",
       "      <td>160.0</td>\n",
       "      <td>0.0</td>\n",
       "      <td>1.6</td>\n",
       "      <td>2.0</td>\n",
       "      <td>0.0</td>\n",
       "      <td>7.0</td>\n",
       "      <td>1</td>\n",
       "    </tr>\n",
       "    <tr>\n",
       "      <th>2</th>\n",
       "      <td>57.0</td>\n",
       "      <td>1.0</td>\n",
       "      <td>2.0</td>\n",
       "      <td>124.0</td>\n",
       "      <td>261.0</td>\n",
       "      <td>0.0</td>\n",
       "      <td>0.0</td>\n",
       "      <td>141.0</td>\n",
       "      <td>0.0</td>\n",
       "      <td>0.3</td>\n",
       "      <td>1.0</td>\n",
       "      <td>0.0</td>\n",
       "      <td>7.0</td>\n",
       "      <td>2</td>\n",
       "    </tr>\n",
       "    <tr>\n",
       "      <th>3</th>\n",
       "      <td>64.0</td>\n",
       "      <td>1.0</td>\n",
       "      <td>4.0</td>\n",
       "      <td>128.0</td>\n",
       "      <td>263.0</td>\n",
       "      <td>0.0</td>\n",
       "      <td>0.0</td>\n",
       "      <td>105.0</td>\n",
       "      <td>1.0</td>\n",
       "      <td>0.2</td>\n",
       "      <td>2.0</td>\n",
       "      <td>1.0</td>\n",
       "      <td>7.0</td>\n",
       "      <td>1</td>\n",
       "    </tr>\n",
       "    <tr>\n",
       "      <th>4</th>\n",
       "      <td>74.0</td>\n",
       "      <td>0.0</td>\n",
       "      <td>2.0</td>\n",
       "      <td>120.0</td>\n",
       "      <td>269.0</td>\n",
       "      <td>0.0</td>\n",
       "      <td>2.0</td>\n",
       "      <td>121.0</td>\n",
       "      <td>1.0</td>\n",
       "      <td>0.2</td>\n",
       "      <td>1.0</td>\n",
       "      <td>1.0</td>\n",
       "      <td>3.0</td>\n",
       "      <td>1</td>\n",
       "    </tr>\n",
       "  </tbody>\n",
       "</table>\n",
       "</div>"
      ],
      "text/plain": [
       "    age  sex  chest_pain  blood_p  serum  blood_s  electro  max_heart  angina  \\\n",
       "0  70.0  1.0         4.0    130.0  322.0      0.0      2.0      109.0     0.0   \n",
       "1  67.0  0.0         3.0    115.0  564.0      0.0      2.0      160.0     0.0   \n",
       "2  57.0  1.0         2.0    124.0  261.0      0.0      0.0      141.0     0.0   \n",
       "3  64.0  1.0         4.0    128.0  263.0      0.0      0.0      105.0     1.0   \n",
       "4  74.0  0.0         2.0    120.0  269.0      0.0      2.0      121.0     1.0   \n",
       "\n",
       "   oldpeak  slope  vessel  thal  normal  \n",
       "0      2.4    2.0     3.0   3.0       2  \n",
       "1      1.6    2.0     0.0   7.0       1  \n",
       "2      0.3    1.0     0.0   7.0       2  \n",
       "3      0.2    2.0     1.0   7.0       1  \n",
       "4      0.2    1.0     1.0   3.0       1  "
      ]
     },
     "execution_count": 25,
     "metadata": {},
     "output_type": "execute_result"
    }
   ],
   "source": [
    "headers = ['age','sex','chest_pain','blood_p','serum','blood_s','electro','max_heart', \\\n",
    "'angina','oldpeak','slope','vessel','thal','normal']\n",
    "df = pd.read_csv(\"heart.dat\", header=None, names=headers, sep=' ')\n",
    "df.head(5)"
   ]
  },
  {
   "cell_type": "code",
   "execution_count": null,
   "metadata": {
    "collapsed": true
   },
   "outputs": [],
   "source": []
  }
 ],
 "metadata": {
  "kernelspec": {
   "display_name": "Python 3",
   "language": "python",
   "name": "python3"
  },
  "language_info": {
   "codemirror_mode": {
    "name": "ipython",
    "version": 3
   },
   "file_extension": ".py",
   "mimetype": "text/x-python",
   "name": "python",
   "nbconvert_exporter": "python",
   "pygments_lexer": "ipython3",
   "version": "3.6.2"
  }
 },
 "nbformat": 4,
 "nbformat_minor": 2
}
