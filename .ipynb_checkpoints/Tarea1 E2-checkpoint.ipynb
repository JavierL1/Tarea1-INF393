{
 "cells": [
  {
   "cell_type": "code",
   "execution_count": 12,
   "metadata": {
    "collapsed": true
   },
   "outputs": [],
   "source": [
    "import pandas as pd\n",
    "import numpy as np\n",
    "import sklearn.linear_model as lm\n",
    "\n",
    "from sklearn.preprocessing import StandardScaler\n",
    "df = pd.read_csv(\"kc_house_data.csv\")\n",
    "df.drop(['id','date','zipcode'],axis=1,inplace=True)\n",
    "scaler = StandardScaler()\n",
    "# Se llevan los datos de cada atributo a una normal estandar\n",
    "# z=(x-\\mu)/\\sigma\n",
    "df_scaled = pd.DataFrame(scaler.fit_transform(df), columns=df.columns)\n",
    "# Para la variable a predecir se realiza linealizacion (log)\n",
    "# Esto es para que la regresion lineal tenga sentido\n",
    "df_scaled['price'] = np.log(df['price'])\n",
    "# df_scaled.head()\n",
    "# Se consideran todos los casos y todos los atributos menos el precio\n",
    "X = df_scaled.iloc[:, 1:]\n",
    "#Numero de casos (N=21613)\n",
    "N = X.shape[0]\n",
    "p = X.shape[1]\n",
    "# Se inserta una columna llena de 1s al final del data set\n",
    "# Corresponde al elemento que se multiplicara con el intercepto\n",
    "# del atributo en la regresión lineal\n",
    "X.insert(X.shape[1], 'intercept', np.ones(N))\n",
    "# En y se guarda la columna con los precios, es decir los valores de la regresion\n",
    "y = df_scaled['price']\n",
    "# mascara estatica con el 70% de los datos\n",
    "# se crea un vector lleno de 0s del largo de x\n",
    "# podria reemplazarse con mascara=np.zeros(N)\n",
    "mascara = np.zeros(len(X))\n",
    "# 70% de los datos. De nuevo, creo que se puede reemplazar con N xd\n",
    "# limit = int(N*0.7)\n",
    "limit = int(len(X)*0.7)\n",
    "# llena los primeros N*0.7 elementos de mascara con 1s\n",
    "mascara[:limit] = 1\n",
    "# istrain se define como un vector con las mismas dimensiones de mascara\n",
    "# y que indica si el elemento es o no parte del 70% de entrenamiento\n",
    "istrain = mascara == 1\n",
    "# Con la ayuda de istrain se extraen los atributos y precio del 70% de \n",
    "# los casos, los cuales seran utilizados como entrenamiento\n",
    "Xtrain = X[istrain]\n",
    "ytrain = y[istrain]\n",
    "# El resto de los datos se utilizan como test (30%)\n",
    "Xtest = X[np.logical_not(istrain)]\n",
    "ytest = y[np.logical_not(istrain)]\n",
    "# Se define una regresion donde no se calcula el intercepto\n",
    "# Se deja de esta forma ya que los datos ya se encuentran normalizados\n",
    "# (centrados en 0)\n",
    "linreg = lm.LinearRegression(fit_intercept = False)\n",
    "# Finalmente se define la regresion lineal con los datos de entrenamiento\n",
    "linreg.fit(Xtrain, ytrain)\n",
    "yhat_test = linreg.predict(Xtest)\n",
    "mse_test = np.mean(np.power(yhat_test - ytest, 2))\n",
    "Xm = Xtrain.as_matrix()\n",
    "ym = ytrain.as_matrix()"
   ]
  },
  {
   "cell_type": "code",
   "execution_count": 7,
   "metadata": {},
   "outputs": [
    {
     "ename": "NameError",
     "evalue": "name 'Xm' is not defined",
     "output_type": "error",
     "traceback": [
      "\u001b[0;31m---------------------------------------------------------------------------\u001b[0m",
      "\u001b[0;31mNameError\u001b[0m                                 Traceback (most recent call last)",
      "\u001b[0;32m<ipython-input-7-df93cd636308>\u001b[0m in \u001b[0;36m<module>\u001b[0;34m()\u001b[0m\n\u001b[1;32m     25\u001b[0m     \u001b[0;32mreturn\u001b[0m \u001b[0mselected\u001b[0m\u001b[0;34m\u001b[0m\u001b[0m\n\u001b[1;32m     26\u001b[0m \u001b[0mnames_regressors\u001b[0m \u001b[0;34m=\u001b[0m \u001b[0mdf\u001b[0m\u001b[0;34m.\u001b[0m\u001b[0mcolumns\u001b[0m\u001b[0;34m[\u001b[0m\u001b[0;34m:\u001b[0m\u001b[0;34m-\u001b[0m\u001b[0;36m1\u001b[0m\u001b[0;34m]\u001b[0m \u001b[0;31m#without intercept\u001b[0m\u001b[0;34m\u001b[0m\u001b[0m\n\u001b[0;32m---> 27\u001b[0;31m \u001b[0mfss\u001b[0m\u001b[0;34m(\u001b[0m\u001b[0mXm\u001b[0m\u001b[0;34m,\u001b[0m\u001b[0mym\u001b[0m\u001b[0;34m,\u001b[0m\u001b[0mnames_regressors\u001b[0m\u001b[0;34m)\u001b[0m\u001b[0;34m\u001b[0m\u001b[0m\n\u001b[0m",
      "\u001b[0;31mNameError\u001b[0m: name 'Xm' is not defined"
     ]
    }
   ],
   "source": [
    "def fss(x, y, names_x, k = 10000):\n",
    "    p = x.shape[1]-1\n",
    "    k = min(p, k)\n",
    "    names_x = np.array(names_x)\n",
    "    remaining = range(0, p)\n",
    "    selected = [p]\n",
    "    current_score = best_new_score = 0.0\n",
    "    while remaining and len(selected)<=k :\n",
    "        score_candidates = []\n",
    "        for candidate in remaining:\n",
    "            model = lm.LinearRegression(fit_intercept=False)\n",
    "            indexes = selected + [candidate]\n",
    "            x_train = x[:,indexes]\n",
    "            predictions_train = model.fit(x_train, y).predict(x_train)\n",
    "            residuals_train = predictions_train - y\n",
    "            mse_candidate = np.mean(np.power(residuals_train, 2))\n",
    "            score_candidates.append((mse_candidate, candidate))\n",
    "        score_candidates.sort()\n",
    "        score_candidates[:] = score_candidates[::-1]\n",
    "        best_new_score, best_candidate = score_candidates.pop()\n",
    "        remaining.remove(best_candidate)\n",
    "        selected.append(best_candidate)\n",
    "        print (\"selected = %s ...\"%names_x[best_candidate])\n",
    "        print (\"totalvars=%d, mse = %f\"%(len(indexes),best_new_score))\n",
    "    return selected\n",
    "names_regressors = df.columns[:-1] #without intercept\n",
    "fss(Xm,ym,names_regressors)"
   ]
  },
  {
   "cell_type": "code",
   "execution_count": null,
   "metadata": {
    "collapsed": true
   },
   "outputs": [],
   "source": []
  }
 ],
 "metadata": {
  "kernelspec": {
   "display_name": "Python 3",
   "language": "python",
   "name": "python3"
  },
  "language_info": {
   "codemirror_mode": {
    "name": "ipython",
    "version": 3
   },
   "file_extension": ".py",
   "mimetype": "text/x-python",
   "name": "python",
   "nbconvert_exporter": "python",
   "pygments_lexer": "ipython3",
   "version": "3.6.2"
  }
 },
 "nbformat": 4,
 "nbformat_minor": 2
}
